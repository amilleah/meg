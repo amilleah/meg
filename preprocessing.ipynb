{
 "cells": [
  {
   "cell_type": "markdown",
   "metadata": {},
   "source": [
    "This script applies filtering and ICA to KIT-NYU MEG data and makes epochs + source models of brain activity using dSPM. It expects that you have already:\n",
    "- applied CALM noise reduction using the KIT-NYU MEG160 application\n",
    "- converted KIT-NYU .sqd recordings into more compatible .fif files using the head shape and marker files from the session.\n",
    "- coregistered the .fif file with 'fsaverage' for making source models of brain activity"
   ]
  },
  {
   "cell_type": "code",
   "execution_count": null,
   "metadata": {},
   "outputs": [],
   "source": [
    "# Imports and setup\n",
    "import mne\n",
    "import os\n",
    "import numpy as np\n",
    "import pandas as pd\n",
    "from os.path import join\n",
    "import matplotlib.pyplot as plt\n",
    "\n",
    "mne.set_log_level(verbose='WARNING')"
   ]
  },
  {
   "cell_type": "code",
   "execution_count": null,
   "metadata": {},
   "outputs": [],
   "source": [
    "# Configuration\n",
    "EXPERIMENT_NAME = 'experiment'\n",
    "ROOT_DIR = 'data'\n",
    "RAW_DIR = join(ROOT_DIR, 'raw')\n",
    "MEG_DIR = join(ROOT_DIR, 'meg')\n",
    "LOG_DIR = join(ROOT_DIR, 'logs')\n",
    "STC_DIR = join(ROOT_DIR, 'stc')\n",
    "SUBJECTS_DIR = join(ROOT_DIR, 'mri')\n",
    "\n",
    "EXCLUDED_SUBJECTS = ['subject_000']\n",
    "subjects = [f'subject_{i:03d}' for i in range(1, 21)]\n",
    "subjects = [s for s in subjects if s not in EXCLUDED_SUBJECTS]\n",
    "\n",
    "print(subjects)\n",
    "print(f'N = {len(subjects)}')"
   ]
  },
  {
   "cell_type": "code",
   "execution_count": null,
   "metadata": {},
   "outputs": [],
   "source": [
    "# Data loading functions\n",
    "def load_meg_data(subject_id, data_type='raw'):\n",
    "   subject_dir = os.path.join(MEG_DIR, subject_id)\n",
    "   \n",
    "   if data_type == 'raw':\n",
    "       fname = os.path.join(subject_dir, f'{subject_id}_{EXPERIMENT_NAME}-raw.fif')\n",
    "   elif data_type == 'ica':\n",
    "       fname = os.path.join(subject_dir, f'{subject_id}_{EXPERIMENT_NAME}-ica-raw.fif')\n",
    "   elif data_type == 'epochs':\n",
    "       fname = os.path.join(subject_dir, f'{subject_id}_{EXPERIMENT_NAME}-ica-epo.fif')\n",
    "       return mne.read_epochs(fname)\n",
    "   else:\n",
    "       raise ValueError(\"data_type must be 'raw', 'ica', or 'epochs'\")\n",
    "   \n",
    "   return mne.io.read_raw_fif(fname, preload=True)\n",
    "\n",
    "def load_log_file(subject_id):\n",
    "   log_filename = os.path.join(LOG_DIR, subject_id, f'{subject_id}_{EXPERIMENT_NAME}_logfile.csv')\n",
    "   return pd.read_csv(log_filename)"
   ]
  },
  {
   "cell_type": "code",
   "execution_count": null,
   "metadata": {},
   "outputs": [],
   "source": [
    "# Load and filter data\n",
    "subject_id = subjects[0] # Do this by subject\n",
    "raw = load_meg_data(subject_id, 'raw')\n",
    "events = mne.find_events(raw, min_duration=0.002)\n",
    "\n",
    "print(f'Events found: {len(events)}')\n",
    "print(f'Sampling rate: {raw.info[\"sfreq\"]} Hz')\n",
    "\n",
    "# Apply bandpass filter\n",
    "print('Applying bandpass filter (1-40 Hz)...')\n",
    "raw.filter(1, 40, method='iir')"
   ]
  },
  {
   "cell_type": "code",
   "execution_count": null,
   "metadata": {},
   "outputs": [],
   "source": [
    "# Bad channel interpolation\n",
    "bad_channels = raw.info['bads']\n",
    "print(f'Bad channels: {bad_channels}')\n",
    "\n",
    "if bad_channels:\n",
    "    print('Interpolating bad channels...')\n",
    "    raw.interpolate_bads()"
   ]
  },
  {
   "cell_type": "code",
   "execution_count": null,
   "metadata": {},
   "outputs": [],
   "source": [
    "# ICA setup and fitting\n",
    "ica = mne.preprocessing.ICA(\n",
    "    n_components=0.95, \n",
    "    method='fastica', \n",
    "    random_state=42\n",
    ")\n",
    "\n",
    "print('Fitting ICA...')\n",
    "ica.fit(raw)"
   ]
  },
  {
   "cell_type": "code",
   "execution_count": null,
   "metadata": {},
   "outputs": [],
   "source": [
    "# ICA component visualization\n",
    "ica.plot_sources(raw)\n",
    "ica.plot_components()"
   ]
  },
  {
   "cell_type": "code",
   "execution_count": null,
   "metadata": {},
   "outputs": [],
   "source": [
    "# Apply ICA\n",
    "print(f'Excluding ICA components: {ica.exclude}')\n",
    "raw_clean = ica.apply(raw.copy())\n",
    "output_fname = join(MEG_DIR, subject_id, f'{subject_id}_{EXPERIMENT_NAME}-ica-raw.fif')\n",
    "raw_clean.save(output_fname, overwrite=True)"
   ]
  },
  {
   "cell_type": "code",
   "execution_count": null,
   "metadata": {},
   "outputs": [],
   "source": [
    "# Cell 9 - Epoching parameters\n",
    "EVENT_MAPPING = {\n",
    "    'condition_1': 160,\n",
    "    'condition_2': 161,\n",
    "    'condition_3': 162,\n",
    "    'condition_4': 163,\n",
    "}\n",
    "\n",
    "EPOCH_TMIN = -0.9\n",
    "EPOCH_TMAX = 0.8\n",
    "BASELINE = (-0.9, -0.8)\n",
    "DECIM = 1\n",
    "ONSET_DELAY = 60\n",
    "REJECT_THRESHOLD = {'mag': 3e-12}"
   ]
  },
  {
   "cell_type": "code",
   "execution_count": null,
   "metadata": {},
   "outputs": [],
   "source": [
    "# Epoching function\n",
    "def make_epochs(subject_id):\n",
    "    print(f'Processing subject: {subject_id}')\n",
    "    \n",
    "    raw = load_meg_data(subject_id, 'ica')\n",
    "    log = load_log_file(subject_id)\n",
    "    \n",
    "    picks_meg = mne.pick_types(raw.info, meg=True, eeg=False, eog=False, stim=False)\n",
    "    \n",
    "    events = mne.find_events(raw, min_duration=0.002)\n",
    "    events[:, 0] += ONSET_DELAY\n",
    "    \n",
    "    epochs = mne.Epochs(\n",
    "        raw, events, event_id=EVENT_MAPPING,\n",
    "        tmin=EPOCH_TMIN, tmax=EPOCH_TMAX,\n",
    "        baseline=BASELINE, picks=picks_meg,\n",
    "        metadata=log, decim=DECIM, preload=True\n",
    "    )\n",
    "    \n",
    "    n_epochs_before = len(epochs)\n",
    "    epochs.drop_bad(REJECT_THRESHOLD)\n",
    "    n_rejected = n_epochs_before - len(epochs)\n",
    "    \n",
    "    print(f'Epochs rejected: {n_rejected} / {n_epochs_before}')\n",
    "    \n",
    "    return epochs"
   ]
  },
  {
   "cell_type": "code",
   "execution_count": null,
   "metadata": {},
   "outputs": [],
   "source": [
    "# Create epochs\n",
    "epochs = make_epochs(subject_id)\n",
    "epoch_filename = join(MEG_DIR, subject_id, f'{subject_id}_{EXPERIMENT_NAME}-ica-epo.fif')\n",
    "epochs.save(epoch_filename, overwrite=True)"
   ]
  },
  {
   "cell_type": "markdown",
   "metadata": {},
   "source": [
    "Now to making source models of brain activity. \\\n",
    "You can stop here and use the processed sensor data for analysis in sensor space. \\\n",
    "You should plot evoked data before moving to source space."
   ]
  },
  {
   "cell_type": "code",
   "execution_count": null,
   "metadata": {},
   "outputs": [],
   "source": [
    "# Parameters for making STCs\n",
    "SNR = 3.0\n",
    "METHOD = \"dSPM\"\n",
    "FIXED_ORIENTATION = False # False, signed data and does not run mne.convert_forward_solution(fwd, surf_ori=True)\n",
    "N_JOBS = 4\n",
    "LAMBDA2 = 1.0 / SNR ** 2.0"
   ]
  },
  {
   "cell_type": "code",
   "execution_count": null,
   "metadata": {},
   "outputs": [],
   "source": [
    "# Helper functions\n",
    "def get_evokeds(subject_id, epochs):\n",
    "    evokeds = {}\n",
    "    conditions = list(epochs.metadata.condition.unique())\n",
    "    \n",
    "    for condition in conditions:\n",
    "        condition_epochs = epochs[epochs.metadata[\"condition\"] == condition]\n",
    "        evoked = condition_epochs.average()\n",
    "        evokeds[condition] = evoked\n",
    "    \n",
    "    return evokeds\n",
    "\n",
    "def get_source_space(subject_id, src_fname, force_new=False):\n",
    "    if not os.path.isfile(src_fname) or force_new:\n",
    "        print(f'Creating source space for {subject_id}...')\n",
    "        src = mne.setup_source_space(\n",
    "            subject=subject_id, \n",
    "            spacing='ico4', \n",
    "            subjects_dir=SUBJECTS_DIR\n",
    "        )\n",
    "        src.save(src_fname, overwrite=True)\n",
    "    else:\n",
    "        src = mne.read_source_spaces(src_fname)\n",
    "    return src\n",
    "\n",
    "def get_forward_solution(subject_id, info, src, trans, bem_fname, force_new=False):\n",
    "    fwd_path = os.path.join(MEG_DIR, subject_id)\n",
    "    fwd_fname = os.path.join(fwd_path, f'{subject_id}-fwd.fif')\n",
    "    \n",
    "    os.makedirs(fwd_path, exist_ok=True)\n",
    "    \n",
    "    if not os.path.isfile(fwd_fname) or force_new:\n",
    "        fwd = mne.make_forward_solution(\n",
    "            info=info, trans=trans, src=src, \n",
    "            bem=bem_fname, ignore_ref=True\n",
    "        )\n",
    "        mne.write_forward_solution(fwd_fname, fwd, overwrite=True)\n",
    "    else:\n",
    "        fwd = mne.read_forward_solution(fwd_fname)\n",
    "    return fwd\n",
    "\n",
    "def get_covariance_matrix(subject_id, epochs, force_new=False):\n",
    "    cov_fname = os.path.join(MEG_DIR, subject_id, f'{subject_id}-cov.fif')\n",
    "    \n",
    "    if not os.path.isfile(cov_fname) or force_new:\n",
    "        cov = mne.compute_covariance(\n",
    "            epochs, tmin=-0.1, tmax=0,\n",
    "            method=['shrunk', 'diagonal_fixed', 'empirical']\n",
    "        )\n",
    "        cov.save(cov_fname, overwrite=True)\n",
    "    else:\n",
    "        cov = mne.read_cov(cov_fname)\n",
    "    return cov\n",
    "\n",
    "def create_and_save_stcs(subject_id, evokeds, inv, lambda2):\n",
    "    for condition, evoked in evokeds.items():\n",
    "        stc = mne.minimum_norm.apply_inverse(\n",
    "            evoked, inv, lambda2=lambda2, method=METHOD\n",
    "        )\n",
    "        \n",
    "        morph = mne.compute_source_morph(\n",
    "            stc, subject_from=subject_id, subject_to='fsaverage',\n",
    "            subjects_dir=SUBJECTS_DIR, spacing=4\n",
    "        )\n",
    "        stc_fsaverage = morph.apply(stc)\n",
    "        \n",
    "        stc_path = os.path.join(STC_DIR, condition)\n",
    "        os.makedirs(stc_path, exist_ok=True)\n",
    "        stc_filename = os.path.join(stc_path, f'{subject_id}_{condition}_dSPM')\n",
    "        stc_fsaverage.save(stc_filename, overwrite=True)"
   ]
  },
  {
   "cell_type": "code",
   "execution_count": null,
   "metadata": {},
   "outputs": [],
   "source": [
    "# Main processing loop\n",
    "for i, subject_id in enumerate(subjects):\n",
    "    print(f\"Processing subject ({i+1}/{len(subjects)}): {subject_id}\")\n",
    "    \n",
    "    try:\n",
    "        trans_fname = os.path.join(MEG_DIR, subject_id, f'{subject_id}-trans.fif')\n",
    "        src_fname = os.path.join(SUBJECTS_DIR, subject_id, 'bem', f'{subject_id}-ico-4-src.fif')\n",
    "        bem_fname = os.path.join(SUBJECTS_DIR, subject_id, 'bem', f'{subject_id}-inner_skull-bem-sol.fif')\n",
    "        epoch_file = os.path.join(MEG_DIR, subject_id, f'{subject_id}_{EXPERIMENT_NAME}-ica-epo.fif')\n",
    "        \n",
    "        trans = mne.read_trans(trans_fname)\n",
    "        epochs = mne.read_epochs(epoch_file)\n",
    "        info = epochs.info\n",
    "        \n",
    "        src = get_source_space(subject_id, src_fname)\n",
    "        evokeds = get_evokeds(subject_id, epochs)\n",
    "        fwd = get_forward_solution(subject_id, info, src, trans, bem_fname)\n",
    "        cov = get_covariance_matrix(subject_id, epochs)\n",
    "        \n",
    "        if FIXED_ORIENTATION:\n",
    "            fwd = mne.convert_forward_solution(fwd, surf_ori=True)\n",
    "        \n",
    "        inv = mne.minimum_norm.make_inverse_operator(\n",
    "            info, fwd, cov, depth=0.8, loose='auto', fixed=FIXED_ORIENTATION\n",
    "        )\n",
    "        \n",
    "        create_and_save_stcs(subject_id, evokeds, inv, LAMBDA2)\n",
    "        print(f\"✓ Completed {subject_id}\")\n",
    "        \n",
    "    except Exception as e:\n",
    "        print(f\"✗ Error with {subject_id}: {e}\")"
   ]
  }
 ],
 "metadata": {
  "kernelspec": {
   "display_name": "eelbrain",
   "language": "python",
   "name": "python3"
  },
  "language_info": {
   "codemirror_mode": {
    "name": "ipython",
    "version": 3
   },
   "file_extension": ".py",
   "mimetype": "text/x-python",
   "name": "python",
   "nbconvert_exporter": "python",
   "pygments_lexer": "ipython3",
   "version": "3.11.8"
  }
 },
 "nbformat": 4,
 "nbformat_minor": 2
}
