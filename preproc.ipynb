{
 "cells": [
  {
   "cell_type": "raw",
   "id": "a2ab25a1",
   "metadata": {
    "vscode": {
     "languageId": "raw"
    }
   },
   "source": [
    "---\n",
    "script: preproc.ipynb\n",
    "last-updated: 2025-08\n",
    "author: amilleah\n",
    "project: github.com/amilleah/meg\n",
    "purpose: applying filtering, ICA, and epoching to raw MEG data\n",
    "inputs: raw.fif meg data, metadata.csv\n",
    "---\n",
    "\n",
    "resources: https://stefanpophristic.github.io/wiki/docs"
   ]
  },
  {
   "cell_type": "code",
   "execution_count": null,
   "id": "68ef012c",
   "metadata": {},
   "outputs": [],
   "source": [
    "#--- imports and dependencies\n",
    "import mne, os\n",
    "import numpy as np\n",
    "import pandas as pd\n",
    "import matplotlib\n",
    "from helpers import *     # note: this script imports functions from helpers.py\n",
    "from os.path import join\n",
    "\n",
    "%gui qt\n",
    "mne.set_log_level(verbose='WARNING')\n",
    "matplotlib.use('Qt5Agg')\n",
    "\n",
    "print(ROOT) # defined in helpers"
   ]
  },
  {
   "cell_type": "code",
   "execution_count": null,
   "id": "b06e3e84",
   "metadata": {},
   "outputs": [],
   "source": [
    "#--- set paths within workspace, ideally the ROOT folder would be open in your code editor\n",
    "pilot = []\n",
    "excluded = [] + pilot   # see exclusion criteria\n",
    "#--- list of subjects, can also be added manually\n",
    "subjects = list({i[:5] for i in os.listdir(raw_dir) if i.startswith(\"R\") and i[:5] not in excluded}) # raw_dir defined in helpers\n",
    "print('N =', len(subjects))\n",
    "print(subjects)"
   ]
  },
  {
   "cell_type": "raw",
   "id": "d6f3b2c4",
   "metadata": {
    "vscode": {
     "languageId": "raw"
    }
   },
   "source": [
    "mne kit2fiff is a command from the library `mne-kit-gui`.\n",
    "this is an interactive way to convert .sqd, .mkr, and fiducial .txt files to create a .fif file.\n",
    "the next steps assume you have successfully created .fif files for your subjects."
   ]
  },
  {
   "cell_type": "code",
   "execution_count": null,
   "id": "4f957fce",
   "metadata": {},
   "outputs": [],
   "source": [
    "#--- work with a single subject until epoching\n",
    "#--- find events (sanity check)\n",
    "subj = input(\"Participant ID: \").strip()\n",
    "print(subj)\n",
    "raw = get_meg_data(subj, \"raw\")\n",
    "events = mne.find_events(raw, min_duration=0.002)\n",
    "print('events: ', len(events))\n",
    "print(events)"
   ]
  },
  {
   "cell_type": "code",
   "execution_count": null,
   "id": "59d0c2d0",
   "metadata": {},
   "outputs": [],
   "source": [
    "#--- filter data (1-40 Hz bandpass)\n",
    "print('filtering...')\n",
    "raw.filter(1,40, method='iir')"
   ]
  },
  {
   "cell_type": "code",
   "execution_count": null,
   "id": "446c58d1",
   "metadata": {},
   "outputs": [],
   "source": [
    "#--- plot after filtering (IN THESE GRAPHS: annotate bad time ranges, radio bursts, body movements, and bad channels)\n",
    "raw.plot_psd()\n",
    "raw.plot()"
   ]
  },
  {
   "cell_type": "code",
   "execution_count": null,
   "id": "5d57ef5b",
   "metadata": {},
   "outputs": [],
   "source": [
    "#--- interpolate bad channels and add annotations\n",
    "print('bads: %s'%raw.info['bads'])\n",
    "print('interpolating bads...')\n",
    "raw.interpolate_bads()"
   ]
  },
  {
   "cell_type": "code",
   "execution_count": null,
   "id": "e0729f43",
   "metadata": {},
   "outputs": [],
   "source": [
    "#--- create, fit, plot ica model to data (explains 95% of variance over n_components)\n",
    "ica = mne.preprocessing.ICA(n_components=0.95, method='fastica', random_state = 3334) #--- note: random state here allows you to replicate an ICA model, is arbitrary number\n",
    "print('fitting ica...')\n",
    "ica.fit(raw, reject_by_annotation=True) # this rejects your annotations from raw.plot() above\n",
    "\n",
    "#--- plot ica components in gui for deselection\n",
    "ica.plot_sources(raw) # timecourses of components --- still search in here for radio bursts\n",
    "ica.plot_components() # topographies of components --- look for eye blinks, saccades, heartbeat, iron cross (see wiki for examples)"
   ]
  },
  {
   "cell_type": "code",
   "execution_count": null,
   "id": "2fc9d85d",
   "metadata": {},
   "outputs": [],
   "source": [
    "#--- confirm that ica components you selected are excluded\n",
    "ica.exclude"
   ]
  },
  {
   "cell_type": "code",
   "execution_count": null,
   "id": "6c99add9",
   "metadata": {},
   "outputs": [],
   "source": [
    "#--- apply the model to the data, excluding bad components\n",
    "raw = ica.apply(raw, exclude=ica.exclude) # this replaces the raw object! be wary!\n",
    "print('saving...')\n",
    "save_meg_data(subj, raw, \"ica-raw\")\n",
    "\n",
    "del raw, ica #--- this will remove the variables, be wary!"
   ]
  },
  {
   "cell_type": "raw",
   "id": "5e58828a",
   "metadata": {
    "vscode": {
     "languageId": "raw"
    }
   },
   "source": [
    "#--- now it's time to create epochs\n",
    "# this is recommended to do by-subject, but you can also do this in a loop"
   ]
  },
  {
   "cell_type": "code",
   "execution_count": null,
   "id": "ec2fd71b",
   "metadata": {},
   "outputs": [],
   "source": [
    "#--- epoch constants\n",
    "epoch_tmin = -0.1               # 100 ms of pre-stimulus blank screen\n",
    "epoch_tmax = 0.8                # 300 ms of on-screen stimulus, 500ms of post-stimulus blank screen\n",
    "epoch_baseline = (-0.1, 0)      # where to use baseline in mne.Epochs()\n",
    "\n",
    "dt = 0.001                      # timestep (1ms)\n",
    "standard_onset = 60             # consensus for KIT-NYU MEG photodiode onset delay from trigger (60ms)\n",
    "decim = 1                       # decim > 1 will downsample your data by that factor. decim = 1 does not downsample\n",
    "reject = {'mag': 3e-12}         # reject sensor activity above threshold (radio bursts, not neural data)"
   ]
  },
  {
   "cell_type": "code",
   "execution_count": null,
   "id": "91a74f47",
   "metadata": {},
   "outputs": [],
   "source": [
    "#--- load in ICA raw data, logfile, and shift events to photodiode onset\n",
    "#--- create and reject epochs by high amplitude threshold\n",
    "print(subj)\n",
    "print('loading data...')\n",
    "raw = get_meg_data(subj, 'ica-raw') # processed data\n",
    "log = get_log_file(subj)\n",
    "\n",
    "print('saving photodiode...')\n",
    "shifted_events = apply_photodiode(subj, raw)\n",
    "print(len(shifted_events))\n",
    "\n",
    "picks_meg = mne.pick_types(raw.info, meg=True, eeg=False, eog=False, stim=False)\n",
    "print('creating epochs...')\n",
    "epochs = mne.Epochs(raw, shifted_events, event_id=inflection_map, # condition-event mapping dictionary in helpers\n",
    "                tmin=epoch_tmin, tmax=epoch_tmax,\n",
    "                baseline=epoch_baseline, picks=picks_meg,\n",
    "                metadata=log, decim=decim, preload=True)\n",
    "\n",
    "print('noise threshold rejection...')\n",
    "_len_epochs = len(epochs)       # temp variable to calculate rejection count\n",
    "epochs.drop_bad(reject)\n",
    "n_threshold_rejection = _len_epochs - len(epochs)\n",
    "print(n_threshold_rejection, 'dropped')\n",
    "\n",
    "#--- apply behavioral filtering\n",
    "epochs = epochs[(epochs.metadata['RT'] > 0.2) & (epochs.metadata['RT'] < 2)] # attentiveness thresholds\n",
    "print(len(epochs))\n",
    "\n",
    "#--- check evoked data, then save epochs\n",
    "get_evokeds(subj, epochs)\n",
    "save_meg_data(subj, epochs, 'ica-epo')"
   ]
  },
  {
   "cell_type": "raw",
   "id": "26e0d0d9",
   "metadata": {
    "vscode": {
     "languageId": "raw"
    }
   },
   "source": [
    "the next step is source reconstruction. we estimate brain activity based on anatomical constraints from coregistration. \n",
    "\n",
    "this assumes you have used the command `mne coreg` in terminal, and aligned your anatomical data/digitization with the MEG sensor data.\n",
    "coregistration will produce the following files: \n",
    "subject-trans.fif -- the geometric transformation of the digitized anatomy (rotated/aligned with the fiducials)\n",
    "/mri/subject folder -- a boundary element model (approximation of skull/brain boundary) and other subject-specific anatomical constraints. \n",
    "\n",
    "review the lab wiki for more info ([source reconstruction](https://stefanpophristic.github.io/wiki/docs/Source%20Reconstruction/Source%20Reconstruction.html))"
   ]
  },
  {
   "cell_type": "code",
   "execution_count": null,
   "id": "63416c13",
   "metadata": {},
   "outputs": [],
   "source": [
    "for i, subj in enumerate(subjects):\n",
    "    print(\"Computing STCs for subject (%s/%s)\" % (str(i + 1), len(subjects)))\n",
    "\n",
    "    #--- files from coregistration\n",
    "    trans_fname = os.path.join(meg_dir, '%s-trans.fif' % subj)\n",
    "    trans = mne.read_trans(trans_fname)\n",
    "    src_fname = os.path.join(subjects_dir, subj, 'bem', '%s-ico-4-src.fif' % subj)\n",
    "    src = get_source_space(subj, src_fname, force_new=False)\n",
    "    bem_fname = os.path.join(subjects_dir, subj, 'bem', '%s-inner_skull-bem-sol.fif' % subj)\n",
    "\n",
    "    #--- get meg data \n",
    "    epoch_file = os.path.join(meg_dir, subj, f'{subj}_{expt}-ica-epo.fif')\n",
    "    epochs = mne.read_epochs(epoch_file)\n",
    "    print(len(epochs))\n",
    "\n",
    "    info = epochs.info\n",
    "    \n",
    "    #--- inverse model calculation\n",
    "    evokeds = get_evokeds(subj, epochs) # this should plot and save the ev to check\n",
    "    bem = get_BEM(subj, bem_fname)\n",
    "    fwd = get_forward_solution(subj, info, src, trans, bem_fname, force_new=False)\n",
    "    cov = get_covariance_matrix(subj, epochs, force_new=False)\n",
    "    inv, lambda2 = get_inverse_operator(info, fwd, cov)\n",
    "\n",
    "    create_and_save_STCs(subj, evokeds, inv, lambda2)\n",
    "\n",
    "    #--- delete variables\n",
    "    del info, trans, src, fwd, cov, inv, evokeds"
   ]
  }
 ],
 "metadata": {
  "kernelspec": {
   "display_name": "telegraph",
   "language": "python",
   "name": "python3"
  },
  "language_info": {
   "codemirror_mode": {
    "name": "ipython",
    "version": 3
   },
   "file_extension": ".py",
   "mimetype": "text/x-python",
   "name": "python",
   "nbconvert_exporter": "python",
   "pygments_lexer": "ipython3",
   "version": "3.11.12"
  }
 },
 "nbformat": 4,
 "nbformat_minor": 5
}
